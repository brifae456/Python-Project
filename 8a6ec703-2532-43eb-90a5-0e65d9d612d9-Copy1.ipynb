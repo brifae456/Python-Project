{
 "cells": [
  {
   "cell_type": "markdown",
   "id": "f85a80d2",
   "metadata": {},
   "source": [
    "# Python - Project <a id='intro'></a>"
   ]
  },
  {
   "cell_type": "markdown",
   "id": "a1262df4",
   "metadata": {},
   "source": [
    "# Introduction <a id='intro'></a>\n",
    "In this project, you will work with data from the entertainment industry. You will study a dataset with records on movies and shows. The research will focus on the \"Golden Age\" of television, which began in 1999 with the release of *The Sopranos* and is still ongoing.\n",
    "\n",
    "The aim of this project is to investigate how the number of votes a title receives impacts its ratings. The assumption is that highly-rated shows (we will focus on TV shows, ignoring movies) released during the \"Golden Age\" of television also have the most votes.\n",
    "\n",
    "\n",
    "## Stages \n",
    "Data on movies and shows is stored in the `/datasets/movies_and_shows.csv` file. There is no information about the quality of the data, so you will need to explore it before doing the analysis.\n",
    "\n",
    "First, you'll evaluate the quality of the data and see whether its issues are significant. Then, during data preprocessing, you will try to account for the most critical problems.\n",
    " \n",
    "Your project will consist of three stages:\n",
    " 1. Data overview\n",
    " 2. Data preprocessing\n",
    " 3. Data analysis"
   ]
  },
  {
   "cell_type": "markdown",
   "id": "ac0593ac",
   "metadata": {},
   "source": [
    "# Stage 1  Data overview <a id='data_review'></a>\n",
    "\n",
    "Open and explore the data."
   ]
  },
  {
   "cell_type": "markdown",
   "id": "e86ed00e",
   "metadata": {},
   "source": [
    "You'll need `pandas`, so import it."
   ]
  },
  {
   "cell_type": "code",
   "execution_count": 1,
   "id": "1727d3f8",
   "metadata": {},
   "outputs": [],
   "source": [
    "# importing pandas\n",
    "import pandas as pd "
   ]
  },
  {
   "cell_type": "markdown",
   "id": "9821beeb",
   "metadata": {},
   "source": [
    "Read the `movies_and_shows.csv` file from the `datasets` folder and save it in the `df` variable:"
   ]
  },
  {
   "cell_type": "code",
   "execution_count": 2,
   "id": "fc5a1402",
   "metadata": {},
   "outputs": [
    {
     "data": {
      "text/html": [
       "<div>\n",
       "<style scoped>\n",
       "    .dataframe tbody tr th:only-of-type {\n",
       "        vertical-align: middle;\n",
       "    }\n",
       "\n",
       "    .dataframe tbody tr th {\n",
       "        vertical-align: top;\n",
       "    }\n",
       "\n",
       "    .dataframe thead th {\n",
       "        text-align: right;\n",
       "    }\n",
       "</style>\n",
       "<table border=\"1\" class=\"dataframe\">\n",
       "  <thead>\n",
       "    <tr style=\"text-align: right;\">\n",
       "      <th></th>\n",
       "      <th>release Year</th>\n",
       "      <th>imdb sc0re</th>\n",
       "      <th>imdb v0tes</th>\n",
       "    </tr>\n",
       "  </thead>\n",
       "  <tbody>\n",
       "    <tr>\n",
       "      <th>count</th>\n",
       "      <td>85579.000000</td>\n",
       "      <td>80970.000000</td>\n",
       "      <td>8.085300e+04</td>\n",
       "    </tr>\n",
       "    <tr>\n",
       "      <th>mean</th>\n",
       "      <td>2015.879994</td>\n",
       "      <td>6.425877</td>\n",
       "      <td>5.978271e+04</td>\n",
       "    </tr>\n",
       "    <tr>\n",
       "      <th>std</th>\n",
       "      <td>7.724668</td>\n",
       "      <td>1.122655</td>\n",
       "      <td>1.846287e+05</td>\n",
       "    </tr>\n",
       "    <tr>\n",
       "      <th>min</th>\n",
       "      <td>1954.000000</td>\n",
       "      <td>1.500000</td>\n",
       "      <td>5.000000e+00</td>\n",
       "    </tr>\n",
       "    <tr>\n",
       "      <th>25%</th>\n",
       "      <td>2015.000000</td>\n",
       "      <td>5.700000</td>\n",
       "      <td>1.266000e+03</td>\n",
       "    </tr>\n",
       "    <tr>\n",
       "      <th>50%</th>\n",
       "      <td>2018.000000</td>\n",
       "      <td>6.500000</td>\n",
       "      <td>5.448000e+03</td>\n",
       "    </tr>\n",
       "    <tr>\n",
       "      <th>75%</th>\n",
       "      <td>2021.000000</td>\n",
       "      <td>7.200000</td>\n",
       "      <td>3.360900e+04</td>\n",
       "    </tr>\n",
       "    <tr>\n",
       "      <th>max</th>\n",
       "      <td>2022.000000</td>\n",
       "      <td>9.500000</td>\n",
       "      <td>2.294231e+06</td>\n",
       "    </tr>\n",
       "  </tbody>\n",
       "</table>\n",
       "</div>"
      ],
      "text/plain": [
       "       release Year    imdb sc0re    imdb v0tes\n",
       "count  85579.000000  80970.000000  8.085300e+04\n",
       "mean    2015.879994      6.425877  5.978271e+04\n",
       "std        7.724668      1.122655  1.846287e+05\n",
       "min     1954.000000      1.500000  5.000000e+00\n",
       "25%     2015.000000      5.700000  1.266000e+03\n",
       "50%     2018.000000      6.500000  5.448000e+03\n",
       "75%     2021.000000      7.200000  3.360900e+04\n",
       "max     2022.000000      9.500000  2.294231e+06"
      ]
     },
     "execution_count": 2,
     "metadata": {},
     "output_type": "execute_result"
    }
   ],
   "source": [
    "# reading the files and storing them to df\n",
    "df = pd.read_csv(\"/datasets/movies_and_shows.csv\")  \n",
    "df. describe() "
   ]
  },
  {
   "cell_type": "markdown",
   "id": "1cd0a96d",
   "metadata": {},
   "source": [
    "Print the first 10 table rows:"
   ]
  },
  {
   "cell_type": "code",
   "execution_count": 3,
   "id": "acd92001",
   "metadata": {},
   "outputs": [
    {
     "data": {
      "text/html": [
       "<div>\n",
       "<style scoped>\n",
       "    .dataframe tbody tr th:only-of-type {\n",
       "        vertical-align: middle;\n",
       "    }\n",
       "\n",
       "    .dataframe tbody tr th {\n",
       "        vertical-align: top;\n",
       "    }\n",
       "\n",
       "    .dataframe thead th {\n",
       "        text-align: right;\n",
       "    }\n",
       "</style>\n",
       "<table border=\"1\" class=\"dataframe\">\n",
       "  <thead>\n",
       "    <tr style=\"text-align: right;\">\n",
       "      <th></th>\n",
       "      <th>name</th>\n",
       "      <th>Character</th>\n",
       "      <th>r0le</th>\n",
       "      <th>TITLE</th>\n",
       "      <th>Type</th>\n",
       "      <th>release Year</th>\n",
       "      <th>genres</th>\n",
       "      <th>imdb sc0re</th>\n",
       "      <th>imdb v0tes</th>\n",
       "    </tr>\n",
       "  </thead>\n",
       "  <tbody>\n",
       "    <tr>\n",
       "      <th>0</th>\n",
       "      <td>Robert De Niro</td>\n",
       "      <td>Travis Bickle</td>\n",
       "      <td>ACTOR</td>\n",
       "      <td>Taxi Driver</td>\n",
       "      <td>MOVIE</td>\n",
       "      <td>1976</td>\n",
       "      <td>['drama', 'crime']</td>\n",
       "      <td>8.2</td>\n",
       "      <td>808582.0</td>\n",
       "    </tr>\n",
       "    <tr>\n",
       "      <th>1</th>\n",
       "      <td>Jodie Foster</td>\n",
       "      <td>Iris Steensma</td>\n",
       "      <td>ACTOR</td>\n",
       "      <td>Taxi Driver</td>\n",
       "      <td>MOVIE</td>\n",
       "      <td>1976</td>\n",
       "      <td>['drama', 'crime']</td>\n",
       "      <td>8.2</td>\n",
       "      <td>808582.0</td>\n",
       "    </tr>\n",
       "    <tr>\n",
       "      <th>2</th>\n",
       "      <td>Albert Brooks</td>\n",
       "      <td>Tom</td>\n",
       "      <td>ACTOR</td>\n",
       "      <td>Taxi Driver</td>\n",
       "      <td>MOVIE</td>\n",
       "      <td>1976</td>\n",
       "      <td>['drama', 'crime']</td>\n",
       "      <td>8.2</td>\n",
       "      <td>808582.0</td>\n",
       "    </tr>\n",
       "    <tr>\n",
       "      <th>3</th>\n",
       "      <td>Harvey Keitel</td>\n",
       "      <td>Matthew 'Sport' Higgins</td>\n",
       "      <td>ACTOR</td>\n",
       "      <td>Taxi Driver</td>\n",
       "      <td>MOVIE</td>\n",
       "      <td>1976</td>\n",
       "      <td>['drama', 'crime']</td>\n",
       "      <td>8.2</td>\n",
       "      <td>808582.0</td>\n",
       "    </tr>\n",
       "    <tr>\n",
       "      <th>4</th>\n",
       "      <td>Cybill Shepherd</td>\n",
       "      <td>Betsy</td>\n",
       "      <td>ACTOR</td>\n",
       "      <td>Taxi Driver</td>\n",
       "      <td>MOVIE</td>\n",
       "      <td>1976</td>\n",
       "      <td>['drama', 'crime']</td>\n",
       "      <td>8.2</td>\n",
       "      <td>808582.0</td>\n",
       "    </tr>\n",
       "    <tr>\n",
       "      <th>5</th>\n",
       "      <td>Peter Boyle</td>\n",
       "      <td>Wizard</td>\n",
       "      <td>ACTOR</td>\n",
       "      <td>Taxi Driver</td>\n",
       "      <td>MOVIE</td>\n",
       "      <td>1976</td>\n",
       "      <td>['drama', 'crime']</td>\n",
       "      <td>8.2</td>\n",
       "      <td>808582.0</td>\n",
       "    </tr>\n",
       "    <tr>\n",
       "      <th>6</th>\n",
       "      <td>Leonard Harris</td>\n",
       "      <td>Senator Charles Palantine</td>\n",
       "      <td>ACTOR</td>\n",
       "      <td>Taxi Driver</td>\n",
       "      <td>MOVIE</td>\n",
       "      <td>1976</td>\n",
       "      <td>['drama', 'crime']</td>\n",
       "      <td>8.2</td>\n",
       "      <td>808582.0</td>\n",
       "    </tr>\n",
       "    <tr>\n",
       "      <th>7</th>\n",
       "      <td>Diahnne Abbott</td>\n",
       "      <td>Concession Girl</td>\n",
       "      <td>ACTOR</td>\n",
       "      <td>Taxi Driver</td>\n",
       "      <td>MOVIE</td>\n",
       "      <td>1976</td>\n",
       "      <td>['drama', 'crime']</td>\n",
       "      <td>8.2</td>\n",
       "      <td>808582.0</td>\n",
       "    </tr>\n",
       "    <tr>\n",
       "      <th>8</th>\n",
       "      <td>Gino Ardito</td>\n",
       "      <td>Policeman at Rally</td>\n",
       "      <td>ACTOR</td>\n",
       "      <td>Taxi Driver</td>\n",
       "      <td>MOVIE</td>\n",
       "      <td>1976</td>\n",
       "      <td>['drama', 'crime']</td>\n",
       "      <td>8.2</td>\n",
       "      <td>808582.0</td>\n",
       "    </tr>\n",
       "    <tr>\n",
       "      <th>9</th>\n",
       "      <td>Martin Scorsese</td>\n",
       "      <td>Passenger Watching Silhouette</td>\n",
       "      <td>ACTOR</td>\n",
       "      <td>Taxi Driver</td>\n",
       "      <td>MOVIE</td>\n",
       "      <td>1976</td>\n",
       "      <td>['drama', 'crime']</td>\n",
       "      <td>8.2</td>\n",
       "      <td>808582.0</td>\n",
       "    </tr>\n",
       "  </tbody>\n",
       "</table>\n",
       "</div>"
      ],
      "text/plain": [
       "              name                      Character   r0le        TITLE   Type  \\\n",
       "0   Robert De Niro                  Travis Bickle  ACTOR  Taxi Driver  MOVIE   \n",
       "1     Jodie Foster                  Iris Steensma  ACTOR  Taxi Driver  MOVIE   \n",
       "2    Albert Brooks                            Tom  ACTOR  Taxi Driver  MOVIE   \n",
       "3    Harvey Keitel        Matthew 'Sport' Higgins  ACTOR  Taxi Driver  MOVIE   \n",
       "4  Cybill Shepherd                          Betsy  ACTOR  Taxi Driver  MOVIE   \n",
       "5      Peter Boyle                         Wizard  ACTOR  Taxi Driver  MOVIE   \n",
       "6   Leonard Harris      Senator Charles Palantine  ACTOR  Taxi Driver  MOVIE   \n",
       "7   Diahnne Abbott                Concession Girl  ACTOR  Taxi Driver  MOVIE   \n",
       "8      Gino Ardito             Policeman at Rally  ACTOR  Taxi Driver  MOVIE   \n",
       "9  Martin Scorsese  Passenger Watching Silhouette  ACTOR  Taxi Driver  MOVIE   \n",
       "\n",
       "   release Year              genres  imdb sc0re  imdb v0tes  \n",
       "0          1976  ['drama', 'crime']         8.2    808582.0  \n",
       "1          1976  ['drama', 'crime']         8.2    808582.0  \n",
       "2          1976  ['drama', 'crime']         8.2    808582.0  \n",
       "3          1976  ['drama', 'crime']         8.2    808582.0  \n",
       "4          1976  ['drama', 'crime']         8.2    808582.0  \n",
       "5          1976  ['drama', 'crime']         8.2    808582.0  \n",
       "6          1976  ['drama', 'crime']         8.2    808582.0  \n",
       "7          1976  ['drama', 'crime']         8.2    808582.0  \n",
       "8          1976  ['drama', 'crime']         8.2    808582.0  \n",
       "9          1976  ['drama', 'crime']         8.2    808582.0  "
      ]
     },
     "execution_count": 3,
     "metadata": {},
     "output_type": "execute_result"
    }
   ],
   "source": [
    "# obtaining the first 10 rows from the df table\n",
    "df.head(10)  "
   ]
  },
  {
   "cell_type": "markdown",
   "id": "e579aa91",
   "metadata": {},
   "source": [
    "Obtain the general information about the table with one command:"
   ]
  },
  {
   "cell_type": "code",
   "execution_count": 4,
   "id": "7bf66d2a",
   "metadata": {},
   "outputs": [
    {
     "name": "stdout",
     "output_type": "stream",
     "text": [
      "<class 'pandas.core.frame.DataFrame'>\n",
      "RangeIndex: 85579 entries, 0 to 85578\n",
      "Data columns (total 9 columns):\n",
      " #   Column        Non-Null Count  Dtype  \n",
      "---  ------        --------------  -----  \n",
      " 0      name       85579 non-null  object \n",
      " 1   Character     85579 non-null  object \n",
      " 2   r0le          85579 non-null  object \n",
      " 3   TITLE         85578 non-null  object \n",
      " 4     Type        85579 non-null  object \n",
      " 5   release Year  85579 non-null  int64  \n",
      " 6   genres        85579 non-null  object \n",
      " 7   imdb sc0re    80970 non-null  float64\n",
      " 8   imdb v0tes    80853 non-null  float64\n",
      "dtypes: float64(2), int64(1), object(6)\n",
      "memory usage: 5.9+ MB\n"
     ]
    }
   ],
   "source": [
    "# obtaining general information about the data in df\n",
    "df.info()  "
   ]
  },
  {
   "cell_type": "markdown",
   "id": "e91f62a7",
   "metadata": {},
   "source": [
    "The table contains nine columns. The majority store the same data type: object. The only exceptions are `'release Year'` (int64 type), `'imdb sc0re'` (float64 type) and `'imdb v0tes'` (float64 type). Scores and votes will be used in our analysis, so it's important to verify that they are present in the dataframe in the appropriate numeric format. Three columns (`'TITLE'`, `'imdb sc0re'` and `'imdb v0tes'`) have missing values.\n",
    "\n",
    "According to the documentation:\n",
    "- `'name'` — actor/director's name and last name\n",
    "- `'Character'` — character played (for actors)\n",
    "- `'r0le '` — the person's contribution to the title (it can be in the capacity of either actor or director)\n",
    "- `'TITLE '` — title of the movie (show)\n",
    "- `'  Type'` — show or movie\n",
    "- `'release Year'` — year when movie (show) was released\n",
    "- `'genres'` — list of genres under which the movie (show) falls\n",
    "- `'imdb sc0re'` — score on IMDb\n",
    "- `'imdb v0tes'` — votes on IMDb\n",
    "\n",
    "We can see three issues with the column names:\n",
    "1. Some names are uppercase, while others are lowercase.\n",
    "2. There are names containing whitespace.\n",
    "3. A few column names have digit '0' instead of letter 'o'. \n"
   ]
  },
  {
   "cell_type": "markdown",
   "id": "4355de7b",
   "metadata": {},
   "source": [
    "## Conclusions\n",
    "Each row in the table stores data about a movie or show. The columns can be divided into two categories: the first is about the roles held by different people who worked on the movie or show (role, name of the actor or director, and character if the row is about an actor); the second category is information about the movie or show itself (title, release year, genre, imdb figures). \n",
    "\n",
    "It's clear that there is sufficient data to do the analysis and evaluate our assumption. However, to move forward, we need to preprocess the data."
   ]
  },
  {
   "cell_type": "markdown",
   "id": "c5dc9111",
   "metadata": {},
   "source": [
    "# Stage 2  Data preprocessing <a id='data_preprocessing'></a>\n",
    "Correct the formatting in the column headers and deal with the missing values. Then, check whether there are duplicates in the data."
   ]
  },
  {
   "cell_type": "code",
   "execution_count": 5,
   "id": "9c850d13",
   "metadata": {},
   "outputs": [
    {
     "data": {
      "text/plain": [
       "Index(['   name', 'Character', 'r0le', 'TITLE', '  Type', 'release Year',\n",
       "       'genres', 'imdb sc0re', 'imdb v0tes'],\n",
       "      dtype='object')"
      ]
     },
     "execution_count": 5,
     "metadata": {},
     "output_type": "execute_result"
    }
   ],
   "source": [
    "# the list of column names in the df table\n",
    "df.columns "
   ]
  },
  {
   "cell_type": "markdown",
   "id": "5f966df9",
   "metadata": {},
   "source": [
    "Change the column names according to the rules of good style:\n",
    "* If the name has several words, use snake_case\n",
    "* All characters must be lowercase\n",
    "* Remove whitespace\n",
    "* Replace zero with letter 'o'"
   ]
  },
  {
   "cell_type": "code",
   "execution_count": 6,
   "id": "23a1dc11",
   "metadata": {},
   "outputs": [],
   "source": [
    "# renaming columns\n",
    "df = df.rename(\n",
    "    columns={\n",
    "        '   name': 'name',\n",
    "        'Character': 'character',\n",
    "        'r0le': 'role',\n",
    "        'TITLE': 'title',\n",
    "        '  Type': 'type',\n",
    "        'release Year': 'release_year',\n",
    "        'imdb sc0re': 'imdb_score',\n",
    "        'imdb v0tes': 'imdb_votes',\n",
    "    }\n",
    ")\n"
   ]
  },
  {
   "cell_type": "markdown",
   "id": "464fbd04",
   "metadata": {},
   "source": [
    "Check the result. Print the names of the columns once more:"
   ]
  },
  {
   "cell_type": "code",
   "execution_count": 7,
   "id": "0eb6527f",
   "metadata": {},
   "outputs": [
    {
     "data": {
      "text/plain": [
       "Index(['name', 'character', 'role', 'title', 'type', 'release_year', 'genres',\n",
       "       'imdb_score', 'imdb_votes'],\n",
       "      dtype='object')"
      ]
     },
     "execution_count": 7,
     "metadata": {},
     "output_type": "execute_result"
    }
   ],
   "source": [
    "# checking result: the list of column names\n",
    "df.columns"
   ]
  },
  {
   "cell_type": "markdown",
   "id": "14d9c319",
   "metadata": {},
   "source": [
    "## Missing values <a id='missing_values'></a>\n",
    "First, find the number of missing values in the table. To do so, combine two `pandas` methods:"
   ]
  },
  {
   "cell_type": "code",
   "execution_count": 8,
   "id": "21c427f2",
   "metadata": {},
   "outputs": [
    {
     "data": {
      "text/plain": [
       "name               0\n",
       "character          0\n",
       "role               0\n",
       "title              1\n",
       "type               0\n",
       "release_year       0\n",
       "genres             0\n",
       "imdb_score      4609\n",
       "imdb_votes      4726\n",
       "dtype: int64"
      ]
     },
     "execution_count": 8,
     "metadata": {},
     "output_type": "execute_result"
    }
   ],
   "source": [
    "# calculating missing values\n",
    "df.isnull().sum()"
   ]
  },
  {
   "cell_type": "markdown",
   "id": "c8272df3",
   "metadata": {},
   "source": [
    "We identified missing values in several columns. While the missing value in `'title'` isn't critical, missing values in `'imdb_score'` and `'imdb_votes'` affect around 6% of the data, which could impact our analysis. To ensure data integrity, we'll drop all rows with missing values."
   ]
  },
  {
   "cell_type": "code",
   "execution_count": 9,
   "id": "599d5550",
   "metadata": {},
   "outputs": [],
   "source": [
    "# Reload DataFrame from CSV file. Had input the wrong code and deleted columns.\n",
    "df = pd.read_csv(\"/datasets/movies_and_shows.csv\")\n",
    "\n",
    "# renaming columns\n",
    "df = df.rename(\n",
    "    columns={\n",
    "        '   name': 'name',\n",
    "        'Character': 'character',\n",
    "        'r0le': 'role',\n",
    "        'TITLE': 'title',\n",
    "        '  Type': 'type',\n",
    "        'release Year': 'release_year',\n",
    "        'imdb sc0re': 'imdb_score',\n",
    "        'imdb v0tes': 'imdb_votes',\n",
    "    }\n",
    ")\n",
    "\n",
    "# dropping rows where columns with scores, and votes have missing values\n",
    "df.dropna(subset=['imdb_score', 'imdb_votes'], inplace=True)\n"
   ]
  },
  {
   "cell_type": "markdown",
   "id": "2156887f",
   "metadata": {},
   "source": [
    "Make sure the table doesn't contain any more missing values. Count the missing values again."
   ]
  },
  {
   "cell_type": "code",
   "execution_count": 10,
   "id": "55c0b0ce",
   "metadata": {},
   "outputs": [
    {
     "data": {
      "text/plain": [
       "name            0\n",
       "character       0\n",
       "role            0\n",
       "title           0\n",
       "type            0\n",
       "release_year    0\n",
       "genres          0\n",
       "imdb_score      0\n",
       "imdb_votes      0\n",
       "dtype: int64"
      ]
     },
     "execution_count": 10,
     "metadata": {},
     "output_type": "execute_result"
    }
   ],
   "source": [
    "# counting missing values\n",
    "df.isnull().sum()"
   ]
  },
  {
   "cell_type": "markdown",
   "id": "a7dc7aa0",
   "metadata": {},
   "source": [
    "## Duplicates <a id='duplicates'></a>\n",
    "Find the number of duplicate rows in the table using one command:"
   ]
  },
  {
   "cell_type": "code",
   "execution_count": 11,
   "id": "9227df01",
   "metadata": {},
   "outputs": [
    {
     "data": {
      "text/plain": [
       "6994"
      ]
     },
     "metadata": {},
     "output_type": "display_data"
    }
   ],
   "source": [
    "# counting duplicate rows\n",
    "display(df.duplicated().sum())"
   ]
  },
  {
   "cell_type": "markdown",
   "id": "5f6eb0fc",
   "metadata": {},
   "source": [
    "Review the duplicate rows to determine if removing them would distort our dataset."
   ]
  },
  {
   "cell_type": "code",
   "execution_count": 12,
   "id": "bcf32fcb",
   "metadata": {},
   "outputs": [
    {
     "name": "stdout",
     "output_type": "stream",
     "text": [
      "0        False\n",
      "1        False\n",
      "2        False\n",
      "3        False\n",
      "4        False\n",
      "         ...  \n",
      "85574    False\n",
      "85575    False\n",
      "85576    False\n",
      "85577     True\n",
      "85578    False\n",
      "Length: 80853, dtype: bool\n"
     ]
    }
   ],
   "source": [
    "# Produce table with duplicates (with original rows included) and review last 5 rows\n",
    "print(df.duplicated())"
   ]
  },
  {
   "cell_type": "markdown",
   "id": "a1ed6640",
   "metadata": {},
   "source": [
    "There are two clear duplicates in the printed rows. We can safely remove them.\n",
    "Call the `pandas` method for getting rid of duplicate rows:"
   ]
  },
  {
   "cell_type": "code",
   "execution_count": 13,
   "id": "724d5bc8",
   "metadata": {},
   "outputs": [],
   "source": [
    "# removing duplicate rows\n",
    "df = df.drop_duplicates().reset_index(drop = True)"
   ]
  },
  {
   "cell_type": "markdown",
   "id": "fc8c77ba",
   "metadata": {},
   "source": [
    "Check for duplicate rows once more to make sure you have removed all of them:"
   ]
  },
  {
   "cell_type": "code",
   "execution_count": 14,
   "id": "8091a9bc",
   "metadata": {},
   "outputs": [
    {
     "data": {
      "text/plain": [
       "0"
      ]
     },
     "metadata": {},
     "output_type": "display_data"
    }
   ],
   "source": [
    "# checking for duplicates\n",
    "display(df.duplicated().sum())"
   ]
  },
  {
   "cell_type": "markdown",
   "id": "1d802b07",
   "metadata": {},
   "source": [
    "Now get rid of implicit duplicates in the `'type'` column. For example, the string `'SHOW'` can be written in different ways. These kinds of errors will also affect the result."
   ]
  },
  {
   "cell_type": "markdown",
   "id": "d5f987ed",
   "metadata": {},
   "source": [
    "Print a list of unique `'type'` names, sorted in alphabetical order. To do so:\n",
    "* Retrieve the intended dataframe column \n",
    "* Apply a sorting method to it\n",
    "* For the sorted column, call the method that will return all unique column values"
   ]
  },
  {
   "cell_type": "code",
   "execution_count": 15,
   "id": "3d7b0ac5",
   "metadata": {},
   "outputs": [
    {
     "data": {
      "text/plain": [
       "array(['MOVIE', 'the movie', 'tv show', 'shows', 'movies', 'tv shows',\n",
       "       'tv series', 'tv', 'SHOW'], dtype=object)"
      ]
     },
     "execution_count": 15,
     "metadata": {},
     "output_type": "execute_result"
    }
   ],
   "source": [
    "# viewing unique type names\n",
    "df['type'].unique()"
   ]
  },
  {
   "cell_type": "markdown",
   "id": "ac6e8b18",
   "metadata": {},
   "source": [
    "Look through the list to find implicit duplicates of `'show'` (`'movie'` duplicates will be ignored since the assumption is about shows). These could be names written incorrectly or alternative names of the same genre.\n",
    "\n",
    "You will see the following implicit duplicates:\n",
    "* `'shows'`\n",
    "* `'SHOW'`\n",
    "* `'tv show'`\n",
    "* `'tv shows'`\n",
    "* `'tv series'`\n",
    "* `'tv'`\n",
    "\n",
    "To get rid of them, declare the function `replace_wrong_show()` with two parameters: \n",
    "* `wrong_shows_list=` — the list of duplicates\n",
    "* `correct_show=` — the string with the correct value\n",
    "\n",
    "The function should correct the names in the `'type'` column from the `df` table (i.e., replace each value from the `wrong_shows_list` list with the value in `correct_show`)."
   ]
  },
  {
   "cell_type": "code",
   "execution_count": 16,
   "id": "bff944f9",
   "metadata": {},
   "outputs": [],
   "source": [
    "# function for replacing implicit duplicates\n",
    "def replace_wrong_show_list(duplicate, correct_show):\n",
    "    df['type'] = df['type'].replace(duplicate, correct_show)\n",
    "    return(duplicate, correct_show)"
   ]
  },
  {
   "cell_type": "markdown",
   "id": "d02d13a6",
   "metadata": {},
   "source": [
    "Call `replace_wrong_show()` and pass it arguments so that it clears implicit duplicates and replaces them with `SHOW`:"
   ]
  },
  {
   "cell_type": "code",
   "execution_count": 17,
   "id": "a2217e53",
   "metadata": {},
   "outputs": [
    {
     "data": {
      "text/plain": [
       "(['shows', 'tv show', 'tv shows', 'tv series', 'tv'], 'SHOW')"
      ]
     },
     "execution_count": 17,
     "metadata": {},
     "output_type": "execute_result"
    }
   ],
   "source": [
    "# removing implicit duplicates\n",
    "replace_wrong_show_list(['shows', 'tv show', 'tv shows', 'tv series', 'tv'], 'SHOW')"
   ]
  },
  {
   "cell_type": "markdown",
   "id": "318b09f7",
   "metadata": {},
   "source": [
    "Make sure the duplicate names are removed. Print the list of unique values from the `'type'` column:"
   ]
  },
  {
   "cell_type": "code",
   "execution_count": 18,
   "id": "25d49d73",
   "metadata": {},
   "outputs": [
    {
     "data": {
      "text/plain": [
       "array(['MOVIE', 'the movie', 'SHOW', 'movies'], dtype=object)"
      ]
     },
     "execution_count": 18,
     "metadata": {},
     "output_type": "execute_result"
    }
   ],
   "source": [
    "# viewing unique genre names\n",
    "df['type'].unique()"
   ]
  },
  {
   "cell_type": "markdown",
   "id": "18b2049e",
   "metadata": {},
   "source": [
    "## Conclusions <a id='data_preprocessing_conclusions'></a>\n",
    "We detected three issues with the data:\n",
    "\n",
    "- Incorrect header styles\n",
    "- Missing values\n",
    "- Duplicate rows and implicit duplicates\n",
    "\n",
    "The headers have been cleaned up to make processing the table simpler.\n",
    "\n",
    "All rows with missing values have been removed. \n",
    "\n",
    "The absence of duplicates will make the results more precise and easier to understand.\n",
    "\n",
    "Now we can move on to our analysis of the prepared data."
   ]
  },
  {
   "cell_type": "markdown",
   "id": "1aa0f1b1",
   "metadata": {},
   "source": [
    "# Stage 3 Data analysis <a id='hypotheses'></a>"
   ]
  },
  {
   "cell_type": "markdown",
   "id": "f8fb6a0e",
   "metadata": {},
   "source": [
    "Based on the previous project stages, you can now define how the assumption will be checked. Calculate the average amount of votes for each score (this data is available in the `imdb_score` and `imdb_votes` columns), and then check how these averages relate to each other. If the averages for shows with the highest scores are bigger than those for shows with lower scores, the assumption appears to be true.\n",
    "\n",
    "Based on this, complete the following steps:\n",
    "\n",
    "- Filter the dataframe to only include shows released in 1999 or later.\n",
    "- Group scores into buckets by rounding the values of the appropriate column (a set of 1-10 integers will help us make the outcome of our calculations more evident without damaging the quality of our research).\n",
    "- Identify outliers among scores based on their number of votes, and exclude scores with few votes.\n",
    "- Calculate the average votes for each score and check whether the assumption matches the results."
   ]
  },
  {
   "cell_type": "markdown",
   "id": "0ea2cb51",
   "metadata": {},
   "source": [
    "To filter the dataframe and only include shows released in 1999 or later, you will take two steps. First, keep only titles published in 1999 or later in our dataframe. Then, filter the table to only contain shows (movies will be removed)."
   ]
  },
  {
   "cell_type": "code",
   "execution_count": 19,
   "id": "6a704aa1",
   "metadata": {},
   "outputs": [],
   "source": [
    "# using conditional indexing modify df so it has only titles released after 1999 (with 1999 included)\n",
    "# give the slice of dataframe new name\n",
    "filtered_shows = df['release_year'] >= 1999"
   ]
  },
  {
   "cell_type": "code",
   "execution_count": 20,
   "id": "128dc6a9",
   "metadata": {
    "scrolled": true
   },
   "outputs": [
    {
     "data": {
      "text/html": [
       "<div>\n",
       "<style scoped>\n",
       "    .dataframe tbody tr th:only-of-type {\n",
       "        vertical-align: middle;\n",
       "    }\n",
       "\n",
       "    .dataframe tbody tr th {\n",
       "        vertical-align: top;\n",
       "    }\n",
       "\n",
       "    .dataframe thead th {\n",
       "        text-align: right;\n",
       "    }\n",
       "</style>\n",
       "<table border=\"1\" class=\"dataframe\">\n",
       "  <thead>\n",
       "    <tr style=\"text-align: right;\">\n",
       "      <th></th>\n",
       "      <th>name</th>\n",
       "      <th>character</th>\n",
       "      <th>role</th>\n",
       "      <th>title</th>\n",
       "      <th>type</th>\n",
       "      <th>release_year</th>\n",
       "      <th>genres</th>\n",
       "      <th>imdb_score</th>\n",
       "      <th>imdb_votes</th>\n",
       "    </tr>\n",
       "  </thead>\n",
       "  <tbody>\n",
       "    <tr>\n",
       "      <th>1661</th>\n",
       "      <td>Jeff Probst</td>\n",
       "      <td>Himself - Host</td>\n",
       "      <td>ACTOR</td>\n",
       "      <td>Survivor</td>\n",
       "      <td>SHOW</td>\n",
       "      <td>2000</td>\n",
       "      <td>['reality']</td>\n",
       "      <td>7.4</td>\n",
       "      <td>24687.0</td>\n",
       "    </tr>\n",
       "    <tr>\n",
       "      <th>2073</th>\n",
       "      <td>Mayumi Tanaka</td>\n",
       "      <td>Monkey D. Luffy (voice)</td>\n",
       "      <td>ACTOR</td>\n",
       "      <td>One Piece</td>\n",
       "      <td>SHOW</td>\n",
       "      <td>1999</td>\n",
       "      <td>['animation', 'action', 'comedy', 'drama', 'fa...</td>\n",
       "      <td>8.8</td>\n",
       "      <td>117129.0</td>\n",
       "    </tr>\n",
       "    <tr>\n",
       "      <th>2074</th>\n",
       "      <td>Kazuya Nakai</td>\n",
       "      <td>Roronoa Zoro (voice)</td>\n",
       "      <td>ACTOR</td>\n",
       "      <td>One Piece</td>\n",
       "      <td>SHOW</td>\n",
       "      <td>1999</td>\n",
       "      <td>['animation', 'action', 'comedy', 'drama', 'fa...</td>\n",
       "      <td>8.8</td>\n",
       "      <td>117129.0</td>\n",
       "    </tr>\n",
       "    <tr>\n",
       "      <th>2075</th>\n",
       "      <td>Akemi Okamura</td>\n",
       "      <td>Nami (voice)</td>\n",
       "      <td>ACTOR</td>\n",
       "      <td>One Piece</td>\n",
       "      <td>SHOW</td>\n",
       "      <td>1999</td>\n",
       "      <td>['animation', 'action', 'comedy', 'drama', 'fa...</td>\n",
       "      <td>8.8</td>\n",
       "      <td>117129.0</td>\n",
       "    </tr>\n",
       "    <tr>\n",
       "      <th>2076</th>\n",
       "      <td>Kappei Yamaguchi</td>\n",
       "      <td>Usopp (voice)</td>\n",
       "      <td>ACTOR</td>\n",
       "      <td>One Piece</td>\n",
       "      <td>SHOW</td>\n",
       "      <td>1999</td>\n",
       "      <td>['animation', 'action', 'comedy', 'drama', 'fa...</td>\n",
       "      <td>8.8</td>\n",
       "      <td>117129.0</td>\n",
       "    </tr>\n",
       "    <tr>\n",
       "      <th>...</th>\n",
       "      <td>...</td>\n",
       "      <td>...</td>\n",
       "      <td>...</td>\n",
       "      <td>...</td>\n",
       "      <td>...</td>\n",
       "      <td>...</td>\n",
       "      <td>...</td>\n",
       "      <td>...</td>\n",
       "      <td>...</td>\n",
       "    </tr>\n",
       "    <tr>\n",
       "      <th>73831</th>\n",
       "      <td>Maneerat Kam-Uan</td>\n",
       "      <td>Ae</td>\n",
       "      <td>ACTOR</td>\n",
       "      <td>Let's Eat</td>\n",
       "      <td>SHOW</td>\n",
       "      <td>2021</td>\n",
       "      <td>['drama', 'comedy']</td>\n",
       "      <td>8.2</td>\n",
       "      <td>5.0</td>\n",
       "    </tr>\n",
       "    <tr>\n",
       "      <th>73832</th>\n",
       "      <td>Rudklao Amratisha</td>\n",
       "      <td>unknown</td>\n",
       "      <td>ACTOR</td>\n",
       "      <td>Let's Eat</td>\n",
       "      <td>SHOW</td>\n",
       "      <td>2021</td>\n",
       "      <td>['drama', 'comedy']</td>\n",
       "      <td>8.2</td>\n",
       "      <td>5.0</td>\n",
       "    </tr>\n",
       "    <tr>\n",
       "      <th>73833</th>\n",
       "      <td>Jaturong Mokjok</td>\n",
       "      <td>unknown</td>\n",
       "      <td>ACTOR</td>\n",
       "      <td>Let's Eat</td>\n",
       "      <td>SHOW</td>\n",
       "      <td>2021</td>\n",
       "      <td>['drama', 'comedy']</td>\n",
       "      <td>8.2</td>\n",
       "      <td>5.0</td>\n",
       "    </tr>\n",
       "    <tr>\n",
       "      <th>73834</th>\n",
       "      <td>Pisamai Wilaisak</td>\n",
       "      <td>unknown</td>\n",
       "      <td>ACTOR</td>\n",
       "      <td>Let's Eat</td>\n",
       "      <td>SHOW</td>\n",
       "      <td>2021</td>\n",
       "      <td>['drama', 'comedy']</td>\n",
       "      <td>8.2</td>\n",
       "      <td>5.0</td>\n",
       "    </tr>\n",
       "    <tr>\n",
       "      <th>73835</th>\n",
       "      <td>Sarawut Wichiensarn</td>\n",
       "      <td>unknown</td>\n",
       "      <td>DIRECTOR</td>\n",
       "      <td>Let's Eat</td>\n",
       "      <td>SHOW</td>\n",
       "      <td>2021</td>\n",
       "      <td>['drama', 'comedy']</td>\n",
       "      <td>8.2</td>\n",
       "      <td>5.0</td>\n",
       "    </tr>\n",
       "  </tbody>\n",
       "</table>\n",
       "<p>13430 rows × 9 columns</p>\n",
       "</div>"
      ],
      "text/plain": [
       "                      name                character      role      title  \\\n",
       "1661           Jeff Probst           Himself - Host     ACTOR   Survivor   \n",
       "2073         Mayumi Tanaka  Monkey D. Luffy (voice)     ACTOR  One Piece   \n",
       "2074          Kazuya Nakai     Roronoa Zoro (voice)     ACTOR  One Piece   \n",
       "2075         Akemi Okamura             Nami (voice)     ACTOR  One Piece   \n",
       "2076      Kappei Yamaguchi            Usopp (voice)     ACTOR  One Piece   \n",
       "...                    ...                      ...       ...        ...   \n",
       "73831     Maneerat Kam-Uan                       Ae     ACTOR  Let's Eat   \n",
       "73832    Rudklao Amratisha                  unknown     ACTOR  Let's Eat   \n",
       "73833      Jaturong Mokjok                  unknown     ACTOR  Let's Eat   \n",
       "73834     Pisamai Wilaisak                  unknown     ACTOR  Let's Eat   \n",
       "73835  Sarawut Wichiensarn                  unknown  DIRECTOR  Let's Eat   \n",
       "\n",
       "       type  release_year                                             genres  \\\n",
       "1661   SHOW          2000                                        ['reality']   \n",
       "2073   SHOW          1999  ['animation', 'action', 'comedy', 'drama', 'fa...   \n",
       "2074   SHOW          1999  ['animation', 'action', 'comedy', 'drama', 'fa...   \n",
       "2075   SHOW          1999  ['animation', 'action', 'comedy', 'drama', 'fa...   \n",
       "2076   SHOW          1999  ['animation', 'action', 'comedy', 'drama', 'fa...   \n",
       "...     ...           ...                                                ...   \n",
       "73831  SHOW          2021                                ['drama', 'comedy']   \n",
       "73832  SHOW          2021                                ['drama', 'comedy']   \n",
       "73833  SHOW          2021                                ['drama', 'comedy']   \n",
       "73834  SHOW          2021                                ['drama', 'comedy']   \n",
       "73835  SHOW          2021                                ['drama', 'comedy']   \n",
       "\n",
       "       imdb_score  imdb_votes  \n",
       "1661          7.4     24687.0  \n",
       "2073          8.8    117129.0  \n",
       "2074          8.8    117129.0  \n",
       "2075          8.8    117129.0  \n",
       "2076          8.8    117129.0  \n",
       "...           ...         ...  \n",
       "73831         8.2         5.0  \n",
       "73832         8.2         5.0  \n",
       "73833         8.2         5.0  \n",
       "73834         8.2         5.0  \n",
       "73835         8.2         5.0  \n",
       "\n",
       "[13430 rows x 9 columns]"
      ]
     },
     "execution_count": 20,
     "metadata": {},
     "output_type": "execute_result"
    }
   ],
   "source": [
    "# repeat conditional indexing so df has only shows (movies are removed as result)\n",
    "df[(df['release_year'] >= 1999) & (df['type'] == 'SHOW')]"
   ]
  },
  {
   "cell_type": "markdown",
   "id": "9648040c",
   "metadata": {},
   "source": [
    "The scores that are to be grouped should be rounded. For instance, titles with scores like 7.8, 8.1, and 8.3 will all be placed in the same bucket with a score of 8."
   ]
  },
  {
   "cell_type": "code",
   "execution_count": 21,
   "id": "54bbd5c0",
   "metadata": {},
   "outputs": [
    {
     "name": "stdout",
     "output_type": "stream",
     "text": [
      "count the title per rounded imdb score:\n",
      " rounded_imdb_score\n",
      "2.0       24\n",
      "3.0       27\n",
      "4.0      180\n",
      "5.0      592\n",
      "6.0     2494\n",
      "7.0     4706\n",
      "8.0     4842\n",
      "9.0      557\n",
      "10.0       8\n",
      "Name: title, dtype: int64\n"
     ]
    },
    {
     "name": "stderr",
     "output_type": "stream",
     "text": [
      "/tmp/ipykernel_184/929821035.py:4: SettingWithCopyWarning: \n",
      "A value is trying to be set on a copy of a slice from a DataFrame.\n",
      "Try using .loc[row_indexer,col_indexer] = value instead\n",
      "\n",
      "See the caveats in the documentation: https://pandas.pydata.org/pandas-docs/stable/user_guide/indexing.html#returning-a-view-versus-a-copy\n",
      "  filtered_shows['rounded_imdb_score']=filtered_shows['imdb_score'].round()\n"
     ]
    }
   ],
   "source": [
    "#Troubleshooting to ensure \n",
    "filtered_shows = df[(df['release_year'] >= 1999) & (df['type'] == 'SHOW')]\n",
    "#Rounding\n",
    "filtered_shows['rounded_imdb_score']=filtered_shows['imdb_score'].round()\n",
    "score_grouping=filtered_shows.groupby('rounded_imdb_score')['title'].count()\n",
    "#checking the outcome with tail()\n",
    "print('count the title per rounded imdb score:\\n', score_grouping)\n",
    "\n"
   ]
  },
  {
   "cell_type": "markdown",
   "id": "36dbd00a",
   "metadata": {},
   "source": [
    "It is now time to identify outliers based on the number of votes."
   ]
  },
  {
   "cell_type": "code",
   "execution_count": 22,
   "id": "b8b55e95",
   "metadata": {},
   "outputs": [
    {
     "name": "stdout",
     "output_type": "stream",
     "text": [
      "rounded_imdb_score\n",
      "2.0       227\n",
      "3.0       562\n",
      "4.0      3301\n",
      "5.0      9096\n",
      "6.0     24046\n",
      "7.0     22647\n",
      "8.0     12971\n",
      "9.0      1001\n",
      "10.0        8\n",
      "Name: title, dtype: int64\n",
      "Float64Index([10.0], dtype='float64', name='rounded_imdb_score')\n"
     ]
    }
   ],
   "source": [
    "# Use groupby() for scores and count all unique values in each group, print the result\n",
    "# Rounding the 'imdb_score' column and creating a new column for the rounded values\n",
    "df['rounded_imdb_score'] = df['imdb_score'].round()\n",
    "# Group by the rounded IMDB scores and count occurances of each score\n",
    "score_grouping = df.groupby('rounded_imdb_score')['title'].count()\n",
    "print(score_grouping)\n",
    "\n",
    "outlier_threshold = 30\n",
    "outlier_scores = score_grouping[score_grouping < outlier_threshold].index\n",
    "print(outlier_scores)"
   ]
  },
  {
   "cell_type": "markdown",
   "id": "1ba6daae",
   "metadata": {},
   "source": [
    "Based on the aggregation performed, it is evident that scores 2 (24 voted shows), 3 (27 voted shows), and 10 (only 8 voted shows) are outliers. There isn't enough data for these scores for the average number of votes to be meaningful."
   ]
  },
  {
   "cell_type": "markdown",
   "id": "bd468c46",
   "metadata": {},
   "source": [
    "To obtain the mean numbers of votes for the selected scores (we identified a range of 4-9 as acceptable), use conditional filtering and grouping."
   ]
  },
  {
   "cell_type": "code",
   "execution_count": 23,
   "id": "d1867e0e",
   "metadata": {},
   "outputs": [
    {
     "name": "stdout",
     "output_type": "stream",
     "text": [
      "   rounded_imdb_score     imdb_votes\n",
      "0                 4.0    8943.007876\n",
      "1                 5.0   14421.066403\n",
      "2                 6.0   29552.217666\n",
      "3                 7.0   54061.490793\n",
      "4                 8.0  162813.093748\n",
      "5                 9.0  577107.221778\n"
     ]
    }
   ],
   "source": [
    "# filter dataframe using two conditions (scores to be in the range 4-9)\n",
    "score_range = df[(df['rounded_imdb_score'] >= 4) & (df['rounded_imdb_score'] <= 9)]\n",
    "# group scores and corresponding average number of votes, reset index and print the result\n",
    "mean_votes = score_range.groupby('rounded_imdb_score')['imdb_votes'].mean().reset_index()\n",
    "print(mean_votes)"
   ]
  },
  {
   "cell_type": "markdown",
   "id": "96a66d14",
   "metadata": {},
   "source": [
    "Now for the final step! Round the column with the averages, rename both columns, and print the dataframe in descending order."
   ]
  },
  {
   "cell_type": "code",
   "execution_count": 24,
   "id": "5999051b",
   "metadata": {},
   "outputs": [
    {
     "name": "stdout",
     "output_type": "stream",
     "text": [
      "   IMDB Score  Average IMDB Votes\n",
      "5         9.0            577107.0\n",
      "4         8.0            162813.0\n",
      "3         7.0             54061.0\n",
      "2         6.0             29552.0\n",
      "1         5.0             14421.0\n",
      "0         4.0              8943.0\n"
     ]
    }
   ],
   "source": [
    "#Round 'imdb score'\n",
    "mean_votes['imdb_votes']=mean_votes['imdb_votes'].round()\n",
    "\n",
    "#Renaming columns\n",
    "mean_votes = mean_votes.rename(columns={\n",
    "    'rounded_imdb_score': 'IMDB Score',\n",
    "    'imdb_votes': 'Average IMDB Votes'\n",
    "})\n",
    "\n",
    "#Printing the dataframe in descending order\n",
    "sorted_group_scores = mean_votes.sort_values(by='Average IMDB Votes', ascending=False)\n",
    "print(sorted_group_scores)\n",
    "\n"
   ]
  },
  {
   "cell_type": "markdown",
   "id": "af07386d",
   "metadata": {},
   "source": [
    "The assumption macthes the analysis: the shows with the top 3 scores have the most amounts of votes."
   ]
  },
  {
   "cell_type": "markdown",
   "id": "84e29a37",
   "metadata": {},
   "source": [
    "## Conclusion <a id='hypotheses'></a>"
   ]
  },
  {
   "cell_type": "markdown",
   "id": "984766a3",
   "metadata": {},
   "source": [
    "The research done confirms that highly-rated shows released during the \"Golden Age\" of television also have the most votes. While shows with score 4 have more votes than ones with scores 5 and 6, the top three (scores 7-9) have the largest number. The data studied represents around 94% of the original set, so we can be confident in our findings."
   ]
  }
 ],
 "metadata": {
  "ExecuteTimeLog": [
   {
    "duration": 359,
    "start_time": "2024-08-28T02:29:48.124Z"
   },
   {
    "duration": 3,
    "start_time": "2024-08-28T02:30:08.861Z"
   },
   {
    "duration": 5,
    "start_time": "2024-08-28T02:30:16.465Z"
   },
   {
    "duration": 5,
    "start_time": "2024-08-28T02:30:22.650Z"
   },
   {
    "duration": 177,
    "start_time": "2024-08-28T02:41:17.775Z"
   },
   {
    "duration": 12,
    "start_time": "2024-08-28T02:41:51.170Z"
   },
   {
    "duration": 11,
    "start_time": "2024-08-28T02:42:04.454Z"
   },
   {
    "duration": 357,
    "start_time": "2024-08-28T02:48:56.662Z"
   },
   {
    "duration": 21,
    "start_time": "2024-08-28T02:49:12.327Z"
   },
   {
    "duration": 18,
    "start_time": "2024-08-28T02:49:33.463Z"
   },
   {
    "duration": 17,
    "start_time": "2024-08-28T02:52:20.411Z"
   },
   {
    "duration": 58,
    "start_time": "2024-08-28T02:53:07.952Z"
   },
   {
    "duration": 59,
    "start_time": "2024-08-28T03:03:57.722Z"
   },
   {
    "duration": 59,
    "start_time": "2024-08-28T03:06:03.688Z"
   },
   {
    "duration": 58,
    "start_time": "2024-08-28T03:09:12.360Z"
   },
   {
    "duration": 151,
    "start_time": "2024-08-28T03:10:12.758Z"
   },
   {
    "duration": 116,
    "start_time": "2024-08-28T03:10:36.861Z"
   },
   {
    "duration": 131,
    "start_time": "2024-08-28T03:10:56.484Z"
   },
   {
    "duration": 12,
    "start_time": "2024-08-28T03:12:31.373Z"
   },
   {
    "duration": 23,
    "start_time": "2024-08-28T03:14:13.084Z"
   },
   {
    "duration": 157,
    "start_time": "2024-08-29T18:15:42.359Z"
   },
   {
    "duration": 11,
    "start_time": "2024-08-29T18:16:23.395Z"
   },
   {
    "duration": 317,
    "start_time": "2024-08-29T18:16:34.903Z"
   },
   {
    "duration": 169,
    "start_time": "2024-08-29T18:16:39.951Z"
   },
   {
    "duration": 18,
    "start_time": "2024-08-29T18:16:46.531Z"
   },
   {
    "duration": 23,
    "start_time": "2024-08-29T18:16:50.831Z"
   },
   {
    "duration": 4,
    "start_time": "2024-08-29T18:16:58.871Z"
   },
   {
    "duration": 5,
    "start_time": "2024-08-29T18:39:29.356Z"
   },
   {
    "duration": 4,
    "start_time": "2024-08-29T18:41:21.381Z"
   },
   {
    "duration": 5,
    "start_time": "2024-08-29T19:01:12.087Z"
   },
   {
    "duration": 19,
    "start_time": "2024-08-29T19:01:34.089Z"
   },
   {
    "duration": 7,
    "start_time": "2024-08-29T20:17:31.236Z"
   },
   {
    "duration": 4,
    "start_time": "2024-08-29T20:17:37.802Z"
   },
   {
    "duration": 4,
    "start_time": "2024-08-29T20:18:27.683Z"
   },
   {
    "duration": 3,
    "start_time": "2024-08-29T20:20:07.407Z"
   },
   {
    "duration": 129,
    "start_time": "2024-08-29T20:20:11.883Z"
   },
   {
    "duration": 9,
    "start_time": "2024-08-29T20:21:02.303Z"
   },
   {
    "duration": 3,
    "start_time": "2024-08-29T20:21:05.451Z"
   },
   {
    "duration": 21,
    "start_time": "2024-08-29T20:21:59.732Z"
   },
   {
    "duration": 4,
    "start_time": "2024-08-29T20:24:56.486Z"
   },
   {
    "duration": 36,
    "start_time": "2024-08-29T20:25:06.120Z"
   },
   {
    "duration": 14,
    "start_time": "2024-08-29T20:26:25.864Z"
   },
   {
    "duration": 25,
    "start_time": "2024-08-29T20:28:00.135Z"
   },
   {
    "duration": 20,
    "start_time": "2024-08-29T20:28:53.496Z"
   },
   {
    "duration": 15,
    "start_time": "2024-08-29T20:30:25.351Z"
   },
   {
    "duration": 4,
    "start_time": "2024-08-29T20:30:57.598Z"
   },
   {
    "duration": 4,
    "start_time": "2024-08-29T20:31:36.542Z"
   },
   {
    "duration": 4,
    "start_time": "2024-08-29T20:32:19.312Z"
   },
   {
    "duration": 3,
    "start_time": "2024-08-29T20:33:24.655Z"
   },
   {
    "duration": 3,
    "start_time": "2024-08-29T20:37:19.180Z"
   },
   {
    "duration": 4,
    "start_time": "2024-08-29T20:37:28.116Z"
   },
   {
    "duration": 4,
    "start_time": "2024-08-29T20:37:38.954Z"
   },
   {
    "duration": 3,
    "start_time": "2024-08-29T20:41:36.907Z"
   },
   {
    "duration": 4,
    "start_time": "2024-08-29T20:43:08.730Z"
   },
   {
    "duration": 640,
    "start_time": "2024-08-29T20:43:42.251Z"
   },
   {
    "duration": 15,
    "start_time": "2024-08-29T20:44:45.728Z"
   },
   {
    "duration": 3,
    "start_time": "2024-08-29T20:44:53.175Z"
   },
   {
    "duration": 20,
    "start_time": "2024-08-29T20:45:35.193Z"
   },
   {
    "duration": 8,
    "start_time": "2024-08-29T20:46:56.025Z"
   },
   {
    "duration": 19,
    "start_time": "2024-08-29T20:47:03.534Z"
   },
   {
    "duration": 39,
    "start_time": "2024-08-29T20:48:12.109Z"
   },
   {
    "duration": 41,
    "start_time": "2024-08-29T20:49:11.771Z"
   },
   {
    "duration": 2,
    "start_time": "2024-08-29T20:50:13.897Z"
   },
   {
    "duration": 37,
    "start_time": "2024-08-29T20:53:46.128Z"
   },
   {
    "duration": 5,
    "start_time": "2024-08-29T21:00:51.416Z"
   },
   {
    "duration": 36,
    "start_time": "2024-08-29T21:03:26.695Z"
   },
   {
    "duration": 47,
    "start_time": "2024-08-29T21:06:43.544Z"
   },
   {
    "duration": 36,
    "start_time": "2024-08-29T21:06:58.993Z"
   },
   {
    "duration": 35,
    "start_time": "2024-08-29T21:07:23.384Z"
   },
   {
    "duration": 44,
    "start_time": "2024-08-29T21:08:03.849Z"
   },
   {
    "duration": 4,
    "start_time": "2024-08-29T21:08:23.505Z"
   },
   {
    "duration": 46,
    "start_time": "2024-08-29T21:08:34.509Z"
   },
   {
    "duration": 37,
    "start_time": "2024-08-29T21:09:25.845Z"
   },
   {
    "duration": 44,
    "start_time": "2024-08-29T21:11:00.200Z"
   },
   {
    "duration": 46,
    "start_time": "2024-08-29T21:11:39.352Z"
   },
   {
    "duration": 7,
    "start_time": "2024-08-29T21:12:56.592Z"
   },
   {
    "duration": 3,
    "start_time": "2024-08-29T22:02:02.421Z"
   },
   {
    "duration": 14,
    "start_time": "2024-08-29T22:06:02.247Z"
   },
   {
    "duration": 18,
    "start_time": "2024-08-29T22:06:50.996Z"
   },
   {
    "duration": 17,
    "start_time": "2024-08-29T22:09:55.478Z"
   },
   {
    "duration": 14,
    "start_time": "2024-08-29T22:10:56.758Z"
   },
   {
    "duration": 16,
    "start_time": "2024-08-29T22:11:05.287Z"
   },
   {
    "duration": 3,
    "start_time": "2024-08-29T22:11:43.864Z"
   },
   {
    "duration": 14,
    "start_time": "2024-08-29T22:11:48.515Z"
   },
   {
    "duration": 12,
    "start_time": "2024-08-29T22:12:34.306Z"
   },
   {
    "duration": 6,
    "start_time": "2024-08-29T22:39:52.412Z"
   },
   {
    "duration": 14,
    "start_time": "2024-08-29T22:40:54.662Z"
   },
   {
    "duration": 6,
    "start_time": "2024-08-29T22:41:02.303Z"
   },
   {
    "duration": 291,
    "start_time": "2024-08-30T02:27:01.155Z"
   },
   {
    "duration": 158,
    "start_time": "2024-08-30T02:27:03.815Z"
   },
   {
    "duration": 533,
    "start_time": "2024-08-30T02:28:15.634Z"
   },
   {
    "duration": 37,
    "start_time": "2024-08-30T02:28:49.929Z"
   },
   {
    "duration": 38,
    "start_time": "2024-08-30T02:33:01.523Z"
   },
   {
    "duration": 3,
    "start_time": "2024-08-30T02:35:30.805Z"
   },
   {
    "duration": 12,
    "start_time": "2024-08-30T02:35:54.611Z"
   },
   {
    "duration": 3,
    "start_time": "2024-08-30T02:39:42.146Z"
   },
   {
    "duration": 38,
    "start_time": "2024-08-30T02:39:52.812Z"
   },
   {
    "duration": 12,
    "start_time": "2024-08-30T02:49:10.308Z"
   },
   {
    "duration": 3,
    "start_time": "2024-08-30T02:52:47.773Z"
   },
   {
    "duration": 7,
    "start_time": "2024-08-30T02:53:04.154Z"
   },
   {
    "duration": 4,
    "start_time": "2024-08-30T02:53:09.240Z"
   },
   {
    "duration": 19,
    "start_time": "2024-08-30T02:53:33.893Z"
   },
   {
    "duration": 9,
    "start_time": "2024-08-30T02:53:37.041Z"
   },
   {
    "duration": 20,
    "start_time": "2024-08-30T02:53:39.836Z"
   },
   {
    "duration": 43,
    "start_time": "2024-08-30T02:53:43.806Z"
   },
   {
    "duration": 43,
    "start_time": "2024-08-30T02:53:48.475Z"
   },
   {
    "duration": 48,
    "start_time": "2024-08-30T02:53:54.009Z"
   },
   {
    "duration": 37,
    "start_time": "2024-08-30T02:53:57.100Z"
   },
   {
    "duration": 8,
    "start_time": "2024-08-30T02:54:05.316Z"
   },
   {
    "duration": 3,
    "start_time": "2024-08-30T02:54:15.163Z"
   },
   {
    "duration": 15,
    "start_time": "2024-08-30T02:54:20.520Z"
   },
   {
    "duration": 7,
    "start_time": "2024-08-30T02:54:24.609Z"
   },
   {
    "duration": 7,
    "start_time": "2024-08-30T02:54:31.878Z"
   },
   {
    "duration": 3,
    "start_time": "2024-08-30T02:55:05.297Z"
   },
   {
    "duration": 13,
    "start_time": "2024-08-30T02:57:26.233Z"
   },
   {
    "duration": 4,
    "start_time": "2024-08-30T03:01:58.472Z"
   },
   {
    "duration": 10,
    "start_time": "2024-08-30T03:01:59.687Z"
   },
   {
    "duration": 13,
    "start_time": "2024-08-30T03:05:45.476Z"
   },
   {
    "duration": 191,
    "start_time": "2024-08-30T03:06:13.053Z"
   },
   {
    "duration": 3,
    "start_time": "2024-08-30T03:07:32.138Z"
   },
   {
    "duration": 40,
    "start_time": "2024-08-30T03:09:02.924Z"
   },
   {
    "duration": 37,
    "start_time": "2024-08-30T03:14:19.028Z"
   },
   {
    "duration": 25,
    "start_time": "2024-08-30T03:14:28.208Z"
   },
   {
    "duration": 3,
    "start_time": "2024-08-30T03:14:41.152Z"
   },
   {
    "duration": 13,
    "start_time": "2024-08-30T03:14:42.904Z"
   },
   {
    "duration": 27,
    "start_time": "2024-08-30T03:14:51.585Z"
   },
   {
    "duration": 29,
    "start_time": "2024-08-30T03:18:17.442Z"
   },
   {
    "duration": 19,
    "start_time": "2024-08-30T03:18:33.917Z"
   },
   {
    "duration": 4,
    "start_time": "2024-08-30T03:20:26.709Z"
   },
   {
    "duration": 20,
    "start_time": "2024-08-30T03:24:52.384Z"
   },
   {
    "duration": 3,
    "start_time": "2024-08-30T03:27:23.167Z"
   },
   {
    "duration": 4,
    "start_time": "2024-08-30T03:37:39.614Z"
   },
   {
    "duration": 3,
    "start_time": "2024-08-30T03:37:51.160Z"
   },
   {
    "duration": 20,
    "start_time": "2024-08-30T03:38:29.431Z"
   },
   {
    "duration": 111,
    "start_time": "2024-08-30T04:11:30.273Z"
   },
   {
    "duration": 121,
    "start_time": "2024-08-30T04:11:56.973Z"
   },
   {
    "duration": 113,
    "start_time": "2024-08-30T04:12:48.664Z"
   },
   {
    "duration": 139,
    "start_time": "2024-08-30T04:15:00.780Z"
   },
   {
    "duration": 109,
    "start_time": "2024-08-30T04:15:23.371Z"
   },
   {
    "duration": 112,
    "start_time": "2024-08-30T04:15:37.688Z"
   },
   {
    "duration": 122,
    "start_time": "2024-08-30T04:19:55.580Z"
   },
   {
    "duration": 132,
    "start_time": "2024-08-30T04:20:15.817Z"
   },
   {
    "duration": 161,
    "start_time": "2024-08-30T04:23:31.456Z"
   },
   {
    "duration": 112,
    "start_time": "2024-08-30T04:29:29.055Z"
   },
   {
    "duration": 133,
    "start_time": "2024-08-30T04:30:16.292Z"
   },
   {
    "duration": 126,
    "start_time": "2024-08-30T04:31:55.099Z"
   },
   {
    "duration": 45,
    "start_time": "2024-08-30T04:32:28.621Z"
   },
   {
    "duration": 38,
    "start_time": "2024-08-30T04:32:56.020Z"
   },
   {
    "duration": 119,
    "start_time": "2024-08-30T04:39:57.712Z"
   },
   {
    "duration": 22,
    "start_time": "2024-08-30T04:40:11.719Z"
   },
   {
    "duration": 42,
    "start_time": "2024-08-30T04:40:17.843Z"
   },
   {
    "duration": 66,
    "start_time": "2024-08-30T04:40:27.057Z"
   },
   {
    "duration": 54,
    "start_time": "2024-08-30T04:40:30.551Z"
   },
   {
    "duration": 39,
    "start_time": "2024-08-30T04:40:34.296Z"
   },
   {
    "duration": 7,
    "start_time": "2024-08-30T04:40:45.343Z"
   },
   {
    "duration": 2,
    "start_time": "2024-08-30T04:41:48.688Z"
   },
   {
    "duration": 17,
    "start_time": "2024-08-30T04:41:53.400Z"
   },
   {
    "duration": 6,
    "start_time": "2024-08-30T04:41:57.516Z"
   },
   {
    "duration": 5,
    "start_time": "2024-08-30T04:42:04.984Z"
   },
   {
    "duration": 2,
    "start_time": "2024-08-30T04:43:06.812Z"
   },
   {
    "duration": 4,
    "start_time": "2024-08-30T04:45:51.656Z"
   },
   {
    "duration": 4,
    "start_time": "2024-08-30T04:46:19.784Z"
   },
   {
    "duration": 3,
    "start_time": "2024-08-30T04:48:13.062Z"
   },
   {
    "duration": 2,
    "start_time": "2024-08-30T04:48:23.996Z"
   },
   {
    "duration": 11,
    "start_time": "2024-08-30T04:48:57.008Z"
   },
   {
    "duration": 28,
    "start_time": "2024-08-30T04:49:48.536Z"
   },
   {
    "duration": 27,
    "start_time": "2024-08-30T04:50:20.432Z"
   },
   {
    "duration": 18,
    "start_time": "2024-08-30T05:02:29.136Z"
   },
   {
    "duration": 26,
    "start_time": "2024-08-30T05:04:54.491Z"
   },
   {
    "duration": 13,
    "start_time": "2024-08-30T05:13:00.572Z"
   },
   {
    "duration": 166,
    "start_time": "2024-08-30T05:13:17.932Z"
   },
   {
    "duration": 26,
    "start_time": "2024-08-30T05:23:59.746Z"
   },
   {
    "duration": 37,
    "start_time": "2024-08-30T05:25:43.226Z"
   },
   {
    "duration": 2,
    "start_time": "2024-08-30T05:26:01.530Z"
   },
   {
    "duration": 13,
    "start_time": "2024-08-30T05:26:04.760Z"
   },
   {
    "duration": 6,
    "start_time": "2024-08-30T05:26:09.594Z"
   },
   {
    "duration": 18,
    "start_time": "2024-08-30T05:26:16.918Z"
   },
   {
    "duration": 25,
    "start_time": "2024-08-30T05:35:35.972Z"
   },
   {
    "duration": 13,
    "start_time": "2024-08-30T05:47:29.542Z"
   },
   {
    "duration": 12,
    "start_time": "2024-08-30T05:48:00.628Z"
   },
   {
    "duration": 13,
    "start_time": "2024-08-30T05:48:08.927Z"
   },
   {
    "duration": 10,
    "start_time": "2024-08-30T05:48:42.005Z"
   },
   {
    "duration": 11,
    "start_time": "2024-08-30T05:49:34.085Z"
   },
   {
    "duration": 4,
    "start_time": "2024-08-30T05:50:45.992Z"
   },
   {
    "duration": 3,
    "start_time": "2024-08-30T05:52:53.556Z"
   },
   {
    "duration": 5,
    "start_time": "2024-08-30T05:53:59.474Z"
   },
   {
    "duration": 12,
    "start_time": "2024-08-30T05:54:13.278Z"
   },
   {
    "duration": 12,
    "start_time": "2024-08-30T05:54:49.643Z"
   },
   {
    "duration": 10,
    "start_time": "2024-08-30T05:55:11.076Z"
   },
   {
    "duration": 2,
    "start_time": "2024-08-30T05:58:56.281Z"
   },
   {
    "duration": 4,
    "start_time": "2024-08-30T05:59:37.391Z"
   },
   {
    "duration": 12,
    "start_time": "2024-08-30T06:02:20.436Z"
   },
   {
    "duration": 9,
    "start_time": "2024-08-30T06:03:13.436Z"
   },
   {
    "duration": 9,
    "start_time": "2024-08-30T06:03:46.000Z"
   },
   {
    "duration": 13,
    "start_time": "2024-08-30T06:06:02.911Z"
   },
   {
    "duration": 268,
    "start_time": "2024-08-31T02:12:54.073Z"
   },
   {
    "duration": 169,
    "start_time": "2024-08-31T02:12:58.711Z"
   },
   {
    "duration": 172,
    "start_time": "2024-08-31T03:11:12.781Z"
   },
   {
    "duration": 370,
    "start_time": "2024-08-31T03:11:29.781Z"
   },
   {
    "duration": 38,
    "start_time": "2024-08-31T03:11:49.813Z"
   },
   {
    "duration": 2,
    "start_time": "2024-08-31T03:11:59.149Z"
   },
   {
    "duration": 124,
    "start_time": "2024-08-31T03:12:02.289Z"
   },
   {
    "duration": 10,
    "start_time": "2024-08-31T03:12:06.305Z"
   },
   {
    "duration": 23,
    "start_time": "2024-08-31T03:12:10.510Z"
   },
   {
    "duration": 4,
    "start_time": "2024-08-31T03:12:16.957Z"
   },
   {
    "duration": 7,
    "start_time": "2024-08-31T03:12:21.467Z"
   },
   {
    "duration": 4,
    "start_time": "2024-08-31T03:12:25.717Z"
   },
   {
    "duration": 19,
    "start_time": "2024-08-31T03:12:30.349Z"
   },
   {
    "duration": 128,
    "start_time": "2024-08-31T03:12:38.561Z"
   },
   {
    "duration": 18,
    "start_time": "2024-08-31T03:12:46.133Z"
   },
   {
    "duration": 39,
    "start_time": "2024-08-31T03:12:50.533Z"
   },
   {
    "duration": 40,
    "start_time": "2024-08-31T03:12:57.161Z"
   },
   {
    "duration": 43,
    "start_time": "2024-08-31T03:13:01.945Z"
   },
   {
    "duration": 36,
    "start_time": "2024-08-31T03:13:07.947Z"
   },
   {
    "duration": 6,
    "start_time": "2024-08-31T03:13:13.930Z"
   },
   {
    "duration": 2,
    "start_time": "2024-08-31T03:13:34.206Z"
   },
   {
    "duration": 17,
    "start_time": "2024-08-31T03:13:38.647Z"
   },
   {
    "duration": 6,
    "start_time": "2024-08-31T03:13:44.173Z"
   },
   {
    "duration": 3,
    "start_time": "2024-08-31T03:13:52.221Z"
   },
   {
    "duration": 12,
    "start_time": "2024-08-31T03:14:01.242Z"
   },
   {
    "duration": 6,
    "start_time": "2024-08-31T03:14:06.913Z"
   },
   {
    "duration": 168,
    "start_time": "2024-08-31T03:21:26.423Z"
   },
   {
    "duration": 6,
    "start_time": "2024-08-31T03:22:19.953Z"
   },
   {
    "duration": 47,
    "start_time": "2024-08-31T03:25:35.781Z"
   },
   {
    "duration": 5,
    "start_time": "2024-08-31T03:27:04.125Z"
   },
   {
    "duration": 3,
    "start_time": "2024-08-31T03:34:36.936Z"
   },
   {
    "duration": 101,
    "start_time": "2024-08-31T03:35:42.929Z"
   },
   {
    "duration": 3,
    "start_time": "2024-08-31T03:50:20.803Z"
   },
   {
    "duration": 8,
    "start_time": "2024-08-31T03:53:47.365Z"
   },
   {
    "duration": 9,
    "start_time": "2024-08-31T04:00:16.670Z"
   },
   {
    "duration": 12,
    "start_time": "2024-08-31T04:10:28.609Z"
   },
   {
    "duration": 14,
    "start_time": "2024-08-31T04:26:17.121Z"
   },
   {
    "duration": 6,
    "start_time": "2024-08-31T04:30:00.474Z"
   },
   {
    "duration": 57,
    "start_time": "2024-08-31T04:31:54.217Z"
   },
   {
    "duration": 3,
    "start_time": "2024-08-31T04:35:38.492Z"
   },
   {
    "duration": 4,
    "start_time": "2024-08-31T04:37:43.388Z"
   },
   {
    "duration": 3,
    "start_time": "2024-08-31T04:39:41.368Z"
   },
   {
    "duration": 3,
    "start_time": "2024-08-31T04:40:14.745Z"
   },
   {
    "duration": 5,
    "start_time": "2024-08-31T04:40:23.510Z"
   },
   {
    "duration": 8,
    "start_time": "2024-08-31T04:40:36.420Z"
   },
   {
    "duration": 27,
    "start_time": "2024-08-31T04:44:06.009Z"
   },
   {
    "duration": 13,
    "start_time": "2024-08-31T04:47:14.273Z"
   },
   {
    "duration": 13,
    "start_time": "2024-08-31T04:47:38.317Z"
   },
   {
    "duration": 27,
    "start_time": "2024-08-31T04:47:57.909Z"
   },
   {
    "duration": 26,
    "start_time": "2024-08-31T04:48:57.950Z"
   },
   {
    "duration": 4,
    "start_time": "2024-08-31T04:49:36.461Z"
   },
   {
    "duration": 27,
    "start_time": "2024-08-31T04:49:45.575Z"
   },
   {
    "duration": 16,
    "start_time": "2024-08-31T04:51:25.137Z"
   },
   {
    "duration": 13,
    "start_time": "2024-08-31T04:52:57.173Z"
   },
   {
    "duration": 4,
    "start_time": "2024-08-31T04:55:04.837Z"
   },
   {
    "duration": 19,
    "start_time": "2024-08-31T04:56:51.710Z"
   },
   {
    "duration": 27,
    "start_time": "2024-08-31T05:03:38.051Z"
   },
   {
    "duration": 18,
    "start_time": "2024-08-31T05:04:28.444Z"
   },
   {
    "duration": 28,
    "start_time": "2024-08-31T05:05:04.021Z"
   },
   {
    "duration": 8,
    "start_time": "2024-08-31T05:10:34.520Z"
   },
   {
    "duration": 20,
    "start_time": "2024-08-31T05:21:25.778Z"
   },
   {
    "duration": 17,
    "start_time": "2024-08-31T05:22:36.475Z"
   },
   {
    "duration": 10,
    "start_time": "2024-08-31T05:23:03.849Z"
   },
   {
    "duration": 11,
    "start_time": "2024-08-31T05:23:49.558Z"
   },
   {
    "duration": 10,
    "start_time": "2024-08-31T05:25:32.097Z"
   },
   {
    "duration": 14,
    "start_time": "2024-08-31T05:29:42.577Z"
   },
   {
    "duration": 28,
    "start_time": "2024-08-31T05:37:28.830Z"
   },
   {
    "duration": 32,
    "start_time": "2024-08-31T05:46:08.104Z"
   },
   {
    "duration": 16,
    "start_time": "2024-08-31T05:46:28.455Z"
   },
   {
    "duration": 3,
    "start_time": "2024-08-31T06:03:19.576Z"
   },
   {
    "duration": 18,
    "start_time": "2024-08-31T06:07:24.420Z"
   },
   {
    "duration": 13,
    "start_time": "2024-08-31T06:10:22.492Z"
   },
   {
    "duration": 41,
    "start_time": "2024-08-31T06:13:04.372Z"
   },
   {
    "duration": 17,
    "start_time": "2024-08-31T06:13:21.700Z"
   },
   {
    "duration": 4,
    "start_time": "2024-08-31T06:18:40.624Z"
   },
   {
    "duration": 41,
    "start_time": "2024-08-31T06:22:29.096Z"
   },
   {
    "duration": 44,
    "start_time": "2024-08-31T06:29:22.076Z"
   },
   {
    "duration": 12,
    "start_time": "2024-08-31T06:32:23.591Z"
   },
   {
    "duration": 44,
    "start_time": "2024-08-31T06:34:35.520Z"
   },
   {
    "duration": 45,
    "start_time": "2024-08-31T06:37:08.348Z"
   },
   {
    "duration": 12,
    "start_time": "2024-08-31T06:41:14.643Z"
   },
   {
    "duration": 3,
    "start_time": "2024-08-31T06:43:19.217Z"
   },
   {
    "duration": 44,
    "start_time": "2024-08-31T06:48:33.864Z"
   },
   {
    "duration": 10,
    "start_time": "2024-08-31T06:49:26.981Z"
   },
   {
    "duration": 47,
    "start_time": "2024-08-31T06:50:26.672Z"
   },
   {
    "duration": 22,
    "start_time": "2024-08-31T06:51:44.784Z"
   },
   {
    "duration": 22,
    "start_time": "2024-08-31T06:51:57.179Z"
   },
   {
    "duration": 20,
    "start_time": "2024-08-31T06:52:14.813Z"
   },
   {
    "duration": 14,
    "start_time": "2024-08-31T06:52:37.916Z"
   },
   {
    "duration": 159,
    "start_time": "2024-08-31T06:58:42.984Z"
   },
   {
    "duration": 43,
    "start_time": "2024-08-31T06:59:12.452Z"
   },
   {
    "duration": 16,
    "start_time": "2024-08-31T06:59:45.948Z"
   },
   {
    "duration": 329,
    "start_time": "2024-08-31T10:05:47.955Z"
   },
   {
    "duration": 161,
    "start_time": "2024-08-31T10:05:48.286Z"
   },
   {
    "duration": 9,
    "start_time": "2024-08-31T10:05:48.449Z"
   },
   {
    "duration": 22,
    "start_time": "2024-08-31T10:05:48.460Z"
   },
   {
    "duration": 4,
    "start_time": "2024-08-31T10:05:48.484Z"
   },
   {
    "duration": 7,
    "start_time": "2024-08-31T10:05:48.490Z"
   },
   {
    "duration": 32,
    "start_time": "2024-08-31T10:05:48.499Z"
   },
   {
    "duration": 20,
    "start_time": "2024-08-31T10:05:48.533Z"
   },
   {
    "duration": 140,
    "start_time": "2024-08-31T10:05:48.555Z"
   },
   {
    "duration": 18,
    "start_time": "2024-08-31T10:05:48.698Z"
   },
   {
    "duration": 50,
    "start_time": "2024-08-31T10:05:48.718Z"
   },
   {
    "duration": 38,
    "start_time": "2024-08-31T10:05:48.770Z"
   },
   {
    "duration": 57,
    "start_time": "2024-08-31T10:05:48.810Z"
   },
   {
    "duration": 36,
    "start_time": "2024-08-31T10:05:48.870Z"
   },
   {
    "duration": 6,
    "start_time": "2024-08-31T10:05:48.908Z"
   },
   {
    "duration": 3,
    "start_time": "2024-08-31T10:05:48.931Z"
   },
   {
    "duration": 14,
    "start_time": "2024-08-31T10:05:48.936Z"
   },
   {
    "duration": 6,
    "start_time": "2024-08-31T10:05:48.951Z"
   },
   {
    "duration": 3,
    "start_time": "2024-08-31T10:05:48.958Z"
   },
   {
    "duration": 18,
    "start_time": "2024-08-31T10:05:48.962Z"
   },
   {
    "duration": 11,
    "start_time": "2024-08-31T10:05:48.982Z"
   },
   {
    "duration": 10,
    "start_time": "2024-08-31T10:05:49.031Z"
   },
   {
    "duration": 12,
    "start_time": "2024-08-31T10:05:49.042Z"
   },
   {
    "duration": 518,
    "start_time": "2024-08-31T10:05:49.056Z"
   },
   {
    "duration": 11,
    "start_time": "2024-08-31T10:09:14.682Z"
   },
   {
    "duration": 3,
    "start_time": "2024-08-31T10:09:17.629Z"
   },
   {
    "duration": 12,
    "start_time": "2024-08-31T10:09:29.077Z"
   },
   {
    "duration": 154,
    "start_time": "2024-08-31T15:35:02.017Z"
   },
   {
    "duration": 12,
    "start_time": "2024-08-31T15:39:36.514Z"
   },
   {
    "duration": 271,
    "start_time": "2024-08-31T15:39:47.489Z"
   },
   {
    "duration": 162,
    "start_time": "2024-08-31T15:39:50.109Z"
   },
   {
    "duration": 10,
    "start_time": "2024-08-31T15:39:53.991Z"
   },
   {
    "duration": 22,
    "start_time": "2024-08-31T15:39:57.655Z"
   },
   {
    "duration": 4,
    "start_time": "2024-08-31T15:40:05.677Z"
   },
   {
    "duration": 5,
    "start_time": "2024-08-31T15:40:10.561Z"
   },
   {
    "duration": 4,
    "start_time": "2024-08-31T15:40:13.413Z"
   },
   {
    "duration": 22,
    "start_time": "2024-08-31T15:40:18.018Z"
   },
   {
    "duration": 132,
    "start_time": "2024-08-31T15:40:22.681Z"
   },
   {
    "duration": 18,
    "start_time": "2024-08-31T15:40:30.675Z"
   },
   {
    "duration": 39,
    "start_time": "2024-08-31T15:40:35.504Z"
   },
   {
    "duration": 37,
    "start_time": "2024-08-31T15:40:39.915Z"
   },
   {
    "duration": 43,
    "start_time": "2024-08-31T15:40:44.437Z"
   },
   {
    "duration": 35,
    "start_time": "2024-08-31T15:40:47.050Z"
   },
   {
    "duration": 6,
    "start_time": "2024-08-31T15:40:51.204Z"
   },
   {
    "duration": 3,
    "start_time": "2024-08-31T15:40:55.777Z"
   },
   {
    "duration": 14,
    "start_time": "2024-08-31T15:41:10.342Z"
   },
   {
    "duration": 6,
    "start_time": "2024-08-31T15:41:13.369Z"
   },
   {
    "duration": 3,
    "start_time": "2024-08-31T15:41:23.538Z"
   },
   {
    "duration": 17,
    "start_time": "2024-08-31T15:41:25.737Z"
   },
   {
    "duration": 12,
    "start_time": "2024-08-31T15:41:33.033Z"
   },
   {
    "duration": 9,
    "start_time": "2024-08-31T15:41:38.750Z"
   },
   {
    "duration": 12,
    "start_time": "2024-08-31T15:41:47.961Z"
   },
   {
    "duration": 337,
    "start_time": "2024-08-31T15:41:54.270Z"
   },
   {
    "duration": 3,
    "start_time": "2024-08-31T15:43:49.729Z"
   },
   {
    "duration": 15,
    "start_time": "2024-08-31T15:45:18.658Z"
   },
   {
    "duration": 15,
    "start_time": "2024-08-31T15:47:24.625Z"
   },
   {
    "duration": 307,
    "start_time": "2024-08-31T15:49:24.336Z"
   },
   {
    "duration": 134,
    "start_time": "2024-08-31T15:49:24.645Z"
   },
   {
    "duration": 11,
    "start_time": "2024-08-31T15:49:24.781Z"
   },
   {
    "duration": 31,
    "start_time": "2024-08-31T15:49:24.794Z"
   },
   {
    "duration": 3,
    "start_time": "2024-08-31T15:49:24.828Z"
   },
   {
    "duration": 4,
    "start_time": "2024-08-31T15:49:24.833Z"
   },
   {
    "duration": 3,
    "start_time": "2024-08-31T15:49:24.839Z"
   },
   {
    "duration": 18,
    "start_time": "2024-08-31T15:49:24.844Z"
   },
   {
    "duration": 153,
    "start_time": "2024-08-31T15:49:24.863Z"
   },
   {
    "duration": 18,
    "start_time": "2024-08-31T15:49:25.018Z"
   },
   {
    "duration": 37,
    "start_time": "2024-08-31T15:49:25.038Z"
   },
   {
    "duration": 52,
    "start_time": "2024-08-31T15:49:25.076Z"
   },
   {
    "duration": 42,
    "start_time": "2024-08-31T15:49:25.131Z"
   },
   {
    "duration": 46,
    "start_time": "2024-08-31T15:49:25.177Z"
   },
   {
    "duration": 5,
    "start_time": "2024-08-31T15:49:25.225Z"
   },
   {
    "duration": 2,
    "start_time": "2024-08-31T15:49:25.232Z"
   },
   {
    "duration": 13,
    "start_time": "2024-08-31T15:49:25.236Z"
   },
   {
    "duration": 6,
    "start_time": "2024-08-31T15:49:25.251Z"
   },
   {
    "duration": 3,
    "start_time": "2024-08-31T15:49:25.259Z"
   },
   {
    "duration": 49,
    "start_time": "2024-08-31T15:49:25.263Z"
   },
   {
    "duration": 10,
    "start_time": "2024-08-31T15:49:25.314Z"
   },
   {
    "duration": 8,
    "start_time": "2024-08-31T15:49:25.325Z"
   },
   {
    "duration": 12,
    "start_time": "2024-08-31T15:49:25.334Z"
   },
   {
    "duration": 15,
    "start_time": "2024-08-31T15:49:25.348Z"
   },
   {
    "duration": 14,
    "start_time": "2024-08-31T15:56:52.249Z"
   },
   {
    "duration": 336,
    "start_time": "2024-08-31T15:58:51.012Z"
   },
   {
    "duration": 141,
    "start_time": "2024-08-31T15:58:51.351Z"
   },
   {
    "duration": 12,
    "start_time": "2024-08-31T15:58:51.494Z"
   },
   {
    "duration": 21,
    "start_time": "2024-08-31T15:58:51.507Z"
   },
   {
    "duration": 4,
    "start_time": "2024-08-31T15:58:51.531Z"
   },
   {
    "duration": 4,
    "start_time": "2024-08-31T15:58:51.537Z"
   },
   {
    "duration": 3,
    "start_time": "2024-08-31T15:58:51.543Z"
   },
   {
    "duration": 19,
    "start_time": "2024-08-31T15:58:51.547Z"
   },
   {
    "duration": 163,
    "start_time": "2024-08-31T15:58:51.567Z"
   },
   {
    "duration": 22,
    "start_time": "2024-08-31T15:58:51.732Z"
   },
   {
    "duration": 52,
    "start_time": "2024-08-31T15:58:51.756Z"
   },
   {
    "duration": 37,
    "start_time": "2024-08-31T15:58:51.810Z"
   },
   {
    "duration": 56,
    "start_time": "2024-08-31T15:58:51.849Z"
   },
   {
    "duration": 35,
    "start_time": "2024-08-31T15:58:51.910Z"
   },
   {
    "duration": 6,
    "start_time": "2024-08-31T15:58:51.946Z"
   },
   {
    "duration": 2,
    "start_time": "2024-08-31T15:58:51.954Z"
   },
   {
    "duration": 12,
    "start_time": "2024-08-31T15:58:51.958Z"
   },
   {
    "duration": 34,
    "start_time": "2024-08-31T15:58:51.972Z"
   },
   {
    "duration": 5,
    "start_time": "2024-08-31T15:58:52.007Z"
   },
   {
    "duration": 18,
    "start_time": "2024-08-31T15:58:52.013Z"
   },
   {
    "duration": 11,
    "start_time": "2024-08-31T15:58:52.032Z"
   },
   {
    "duration": 8,
    "start_time": "2024-08-31T15:58:52.045Z"
   },
   {
    "duration": 12,
    "start_time": "2024-08-31T15:58:52.054Z"
   },
   {
    "duration": 51,
    "start_time": "2024-08-31T15:58:52.068Z"
   },
   {
    "duration": 290,
    "start_time": "2024-09-01T09:25:56.680Z"
   },
   {
    "duration": 172,
    "start_time": "2024-09-01T09:25:56.972Z"
   },
   {
    "duration": 9,
    "start_time": "2024-09-01T09:25:57.146Z"
   },
   {
    "duration": 21,
    "start_time": "2024-09-01T09:25:57.157Z"
   },
   {
    "duration": 3,
    "start_time": "2024-09-01T09:25:57.180Z"
   },
   {
    "duration": 4,
    "start_time": "2024-09-01T09:25:57.185Z"
   },
   {
    "duration": 3,
    "start_time": "2024-09-01T09:25:57.191Z"
   },
   {
    "duration": 17,
    "start_time": "2024-09-01T09:25:57.225Z"
   },
   {
    "duration": 133,
    "start_time": "2024-09-01T09:25:57.244Z"
   },
   {
    "duration": 17,
    "start_time": "2024-09-01T09:25:57.380Z"
   },
   {
    "duration": 50,
    "start_time": "2024-09-01T09:25:57.399Z"
   },
   {
    "duration": 36,
    "start_time": "2024-09-01T09:25:57.451Z"
   },
   {
    "duration": 67,
    "start_time": "2024-09-01T09:25:57.489Z"
   },
   {
    "duration": 34,
    "start_time": "2024-09-01T09:25:57.557Z"
   },
   {
    "duration": 5,
    "start_time": "2024-09-01T09:25:57.593Z"
   },
   {
    "duration": 3,
    "start_time": "2024-09-01T09:25:57.599Z"
   },
   {
    "duration": 16,
    "start_time": "2024-09-01T09:25:57.625Z"
   },
   {
    "duration": 6,
    "start_time": "2024-09-01T09:25:57.643Z"
   },
   {
    "duration": 2,
    "start_time": "2024-09-01T09:25:57.651Z"
   },
   {
    "duration": 17,
    "start_time": "2024-09-01T09:25:57.655Z"
   },
   {
    "duration": 11,
    "start_time": "2024-09-01T09:25:57.674Z"
   },
   {
    "duration": 37,
    "start_time": "2024-09-01T09:25:57.688Z"
   },
   {
    "duration": 13,
    "start_time": "2024-09-01T09:25:57.727Z"
   },
   {
    "duration": 16,
    "start_time": "2024-09-01T09:25:57.742Z"
   },
   {
    "duration": 541,
    "start_time": "2024-09-01T09:27:20.796Z"
   },
   {
    "duration": 13,
    "start_time": "2024-09-01T09:27:26.805Z"
   },
   {
    "duration": 5,
    "start_time": "2024-09-01T09:27:27.648Z"
   },
   {
    "duration": 280,
    "start_time": "2025-01-20T04:47:51.864Z"
   },
   {
    "duration": 153,
    "start_time": "2025-01-20T04:47:52.147Z"
   },
   {
    "duration": 9,
    "start_time": "2025-01-20T04:47:52.302Z"
   },
   {
    "duration": 22,
    "start_time": "2025-01-20T04:47:52.314Z"
   },
   {
    "duration": 4,
    "start_time": "2025-01-20T04:47:52.338Z"
   },
   {
    "duration": 26,
    "start_time": "2025-01-20T04:47:52.344Z"
   },
   {
    "duration": 3,
    "start_time": "2025-01-20T04:47:52.372Z"
   },
   {
    "duration": 19,
    "start_time": "2025-01-20T04:47:52.377Z"
   },
   {
    "duration": 145,
    "start_time": "2025-01-20T04:47:52.397Z"
   },
   {
    "duration": 18,
    "start_time": "2025-01-20T04:47:52.543Z"
   },
   {
    "duration": 42,
    "start_time": "2025-01-20T04:47:52.563Z"
   },
   {
    "duration": 37,
    "start_time": "2025-01-20T04:47:52.607Z"
   },
   {
    "duration": 61,
    "start_time": "2025-01-20T04:47:52.646Z"
   },
   {
    "duration": 35,
    "start_time": "2025-01-20T04:47:52.710Z"
   },
   {
    "duration": 6,
    "start_time": "2025-01-20T04:47:52.747Z"
   },
   {
    "duration": 3,
    "start_time": "2025-01-20T04:47:52.771Z"
   },
   {
    "duration": 14,
    "start_time": "2025-01-20T04:47:52.776Z"
   },
   {
    "duration": 5,
    "start_time": "2025-01-20T04:47:52.792Z"
   },
   {
    "duration": 3,
    "start_time": "2025-01-20T04:47:52.799Z"
   },
   {
    "duration": 18,
    "start_time": "2025-01-20T04:47:52.803Z"
   },
   {
    "duration": 11,
    "start_time": "2025-01-20T04:47:52.823Z"
   },
   {
    "duration": 42,
    "start_time": "2025-01-20T04:47:52.836Z"
   },
   {
    "duration": 13,
    "start_time": "2025-01-20T04:47:52.881Z"
   },
   {
    "duration": 9,
    "start_time": "2025-01-20T04:47:52.896Z"
   },
   {
    "duration": 545,
    "start_time": "2025-01-20T04:57:03.887Z"
   },
   {
    "duration": 314,
    "start_time": "2025-01-20T04:57:11.998Z"
   },
   {
    "duration": 137,
    "start_time": "2025-01-20T04:57:12.315Z"
   },
   {
    "duration": 17,
    "start_time": "2025-01-20T04:57:12.455Z"
   },
   {
    "duration": 21,
    "start_time": "2025-01-20T04:57:12.474Z"
   },
   {
    "duration": 3,
    "start_time": "2025-01-20T04:57:12.497Z"
   },
   {
    "duration": 5,
    "start_time": "2025-01-20T04:57:12.502Z"
   },
   {
    "duration": 8,
    "start_time": "2025-01-20T04:57:12.508Z"
   },
   {
    "duration": 18,
    "start_time": "2025-01-20T04:57:12.518Z"
   },
   {
    "duration": 158,
    "start_time": "2025-01-20T04:57:12.538Z"
   },
   {
    "duration": 18,
    "start_time": "2025-01-20T04:57:12.697Z"
   },
   {
    "duration": 38,
    "start_time": "2025-01-20T04:57:12.718Z"
   },
   {
    "duration": 48,
    "start_time": "2025-01-20T04:57:12.757Z"
   },
   {
    "duration": 43,
    "start_time": "2025-01-20T04:57:12.809Z"
   },
   {
    "duration": 48,
    "start_time": "2025-01-20T04:57:12.854Z"
   },
   {
    "duration": 6,
    "start_time": "2025-01-20T04:57:12.904Z"
   },
   {
    "duration": 3,
    "start_time": "2025-01-20T04:57:12.912Z"
   },
   {
    "duration": 12,
    "start_time": "2025-01-20T04:57:12.917Z"
   },
   {
    "duration": 39,
    "start_time": "2025-01-20T04:57:12.931Z"
   },
   {
    "duration": 3,
    "start_time": "2025-01-20T04:57:12.972Z"
   },
   {
    "duration": 19,
    "start_time": "2025-01-20T04:57:12.977Z"
   },
   {
    "duration": 13,
    "start_time": "2025-01-20T04:57:12.998Z"
   },
   {
    "duration": 11,
    "start_time": "2025-01-20T04:57:13.013Z"
   },
   {
    "duration": 14,
    "start_time": "2025-01-20T04:57:13.025Z"
   },
   {
    "duration": 6,
    "start_time": "2025-01-20T04:57:13.069Z"
   }
  ],
  "kernelspec": {
   "display_name": "Python 3 (ipykernel)",
   "language": "python",
   "name": "python3"
  },
  "language_info": {
   "codemirror_mode": {
    "name": "ipython",
    "version": 3
   },
   "file_extension": ".py",
   "mimetype": "text/x-python",
   "name": "python",
   "nbconvert_exporter": "python",
   "pygments_lexer": "ipython3",
   "version": "3.9.19"
  },
  "toc": {
   "base_numbering": 1,
   "nav_menu": {},
   "number_sections": true,
   "sideBar": true,
   "skip_h1_title": true,
   "title_cell": "Table of Contents",
   "title_sidebar": "Contents",
   "toc_cell": false,
   "toc_position": {},
   "toc_section_display": true,
   "toc_window_display": false
  }
 },
 "nbformat": 4,
 "nbformat_minor": 5
}
